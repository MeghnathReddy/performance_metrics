{
 "cells": [
  {
   "cell_type": "markdown",
   "metadata": {
    "colab_type": "text",
    "id": "s0Ej_bXyQvnV"
   },
   "source": [
    "# Compute performance metrics for the given Y and Y_score without sklearn"
   ]
  },
  {
   "cell_type": "code",
   "execution_count": 2,
   "metadata": {
    "colab": {},
    "colab_type": "code",
    "id": "4CHb6NE7Qvnc"
   },
   "outputs": [],
   "source": [
    "# importing required libraries\n",
    "import numpy as np\n",
    "import pandas as pd\n",
    "import matplotlib.pyplot as plt\n",
    "from tqdm import tqdm"
   ]
  },
  {
   "cell_type": "markdown",
   "metadata": {},
   "source": [
    "# Task - 1"
   ]
  },
  {
   "cell_type": "markdown",
   "metadata": {
    "colab_type": "text",
    "id": "KbsWXuDaQvnq"
   },
   "source": [
    "\n",
    "<ol>\n",
    "<li> Compute Confusion Matrix </li>\n",
    "<li> Compute F1 Score </li>\n",
    "<li> Compute AUC Score, need to compute different thresholds and for each threshold compute tpr,fpr and then use               numpy.trapz(tpr_array, fpr_array) <a href='https://stackoverflow.com/q/53603376/4084039'>https://stackoverflow.com/q/53603376/4084039</a>, <a href='https://stackoverflow.com/a/39678975/4084039'>https://stackoverflow.com/a/39678975/4084039</a> Note: it should be numpy.trapz(tpr_array, fpr_array) not numpy.trapz(fpr_array, tpr_array)</li>\n",
    "<li> Compute Accuracy Score </li>\n",
    "</ol>\n",
    "</pre>"
   ]
  },
  {
   "cell_type": "code",
   "execution_count": 8,
   "metadata": {},
   "outputs": [
    {
     "name": "stdout",
     "output_type": "stream",
     "text": [
      "     y     proba\n",
      "0  1.0  0.637387\n",
      "1  1.0  0.635165\n",
      "2  1.0  0.766586\n",
      "3  1.0  0.724564\n",
      "4  1.0  0.889199\n",
      "   actual_y  pred_y\n",
      "0       1.0       1\n",
      "1       1.0       1\n",
      "2       1.0       1\n",
      "3       1.0       1\n",
      "4       1.0       1\n"
     ]
    }
   ],
   "source": [
    "# importing file and making some changes\n",
    "def convert(value):\n",
    "    if value < 0.5:\n",
    "        return 0\n",
    "    else:\n",
    "        return 1\n",
    "data[\"pred_y\"] = data[\"pred_y\"].map(convert)\n",
    "print(data.head())"
   ]
  },
  {
   "cell_type": "code",
   "execution_count": 9,
   "metadata": {},
   "outputs": [
    {
     "name": "stdout",
     "output_type": "stream",
     "text": [
      "conf_matrix is :\n",
      " [[    0     0]\n",
      " [  100 10000]]\n"
     ]
    }
   ],
   "source": [
    "# confusion matrix\n",
    "# assumes negative = 0 and possitive = 1\n",
    "tp,tn,fn,fp = 0,0,0,0\n",
    "i = 0\n",
    "while i < len(data.actual_y):\n",
    "    if (data.actual_y[i] == 1) and (data.pred_y[i] == 1):\n",
    "        tp = tp + 1\n",
    "    if (data.actual_y[i] == 1) and (data.pred_y[i] == 0):\n",
    "        fn = fn + 1\n",
    "    if (data.actual_y[i] == 0) and (data.pred_y[i] == 0):\n",
    "        tn = tn + 1\n",
    "    if (data.actual_y[i] == 0) and (data.pred_y[i] == 1):\n",
    "        fp = fp + 1\n",
    "    i = i+ 1\n",
    "    \n",
    "conf_matrix = np.array([[tn,fn],[fp,tp]])\n",
    "print(\"conf_matrix is :\\n\",conf_matrix)"
   ]
  },
  {
   "cell_type": "code",
   "execution_count": 10,
   "metadata": {},
   "outputs": [
    {
     "name": "stdout",
     "output_type": "stream",
     "text": [
      "precision =  0.9900990099009901\n",
      "recall =  1.0\n",
      "f1_score =  0.9950248756218906\n"
     ]
    }
   ],
   "source": [
    "# F1 score\n",
    "\n",
    "precision = tp/(tp+fp)\n",
    "recall = tp/(tp+fn)\n",
    "print(\"precision = \" , precision)\n",
    "print(\"recall = \" , recall)\n",
    "\n",
    "f1_score = (2*precision*recall)/(precision+recall)\n",
    "print(\"f1_score = \" , f1_score)"
   ]
  },
  {
   "cell_type": "code",
   "execution_count": 11,
   "metadata": {},
   "outputs": [
    {
     "name": "stdout",
     "output_type": "stream",
     "text": [
      "accuracy is  0.9901970492127934\n"
     ]
    }
   ],
   "source": [
    "# Computing  accuracy \n",
    "corct_clsfd = 0\n",
    "i = 0\n",
    "while i < len(data.actual_y):\n",
    "    if (data.actual_y[i] == 1) and (data.pred_y[i] == 1):\n",
    "        corct_clsfd += 1\n",
    "    if (data.actual_y[i] == 0) and (data.pred_y[i] == 0):\n",
    "        corct_clsfd += 1\n",
    "    i = i+ 1\n",
    "    \n",
    "accuracy = corct_clsfd/((len(data.actual_y))-1)\n",
    "print(\"accuracy is \" , accuracy)"
   ]
  },
  {
   "cell_type": "markdown",
   "metadata": {},
   "source": [
    "###### Auc roc curve"
   ]
  },
  {
   "cell_type": "code",
   "execution_count": 3,
   "metadata": {},
   "outputs": [],
   "source": [
    "# Computing tpr and fpr lists\n",
    "\n",
    "def compute_tpr_fpr_lists():\n",
    "    tpr_list = []\n",
    "    fpr_list = []\n",
    "    for actual_pred_y in tqdm(data.pred_y):\n",
    "        y_tilda = []\n",
    "        i = 0\n",
    "        # computiing Y_tilda\n",
    "        while i<len(data.pred_y):\n",
    "            if data.pred_y.iloc[i] < actual_pred_y:\n",
    "                y_tilda.append(0)\n",
    "            else:\n",
    "                y_tilda.append(1)\n",
    "            i = i+1\n",
    "    \n",
    "            # Computing confusion matrixes\n",
    "        tp,tn,fn,fp = 0,0,0,0\n",
    "        i = 0\n",
    "        while i < len(data.actual_y):\n",
    "            if (data.actual_y.iloc[i] == 1) and (y_tilda[i] == 1):\n",
    "                tp = tp + 1\n",
    "            if (data.actual_y.iloc[i] == 1) and (y_tilda[i] == 0):\n",
    "                fn = fn + 1\n",
    "            if (data.actual_y.iloc[i] == 0) and (y_tilda[i] == 0):\n",
    "                tn = tn + 1\n",
    "            if (data.actual_y.iloc[i] == 0) and (y_tilda[i] == 1):\n",
    "                fp = fp + 1\n",
    "            i = i+1\n",
    "        # computing and Appending tpr and fpr values of each thresold value in tpr_list and fpr_list\n",
    "        tpr = tp/(fn+tp)\n",
    "        fpr = fp/(tn+fp)\n",
    "        tpr_list.append(tpr)\n",
    "        fpr_list.append(fpr)\n",
    "    \n",
    "    return tpr_list , fpr_list"
   ]
  },
  {
   "cell_type": "code",
   "execution_count": 4,
   "metadata": {},
   "outputs": [
    {
     "name": "stderr",
     "output_type": "stream",
     "text": [
      "100%|██████████████████████████████████████████████████████████████████████████| 10100/10100 [4:05:48<00:00,  1.46s/it]"
     ]
    },
    {
     "name": "stdout",
     "output_type": "stream",
     "text": [
      "10100 10100\n"
     ]
    },
    {
     "name": "stderr",
     "output_type": "stream",
     "text": [
      "\n"
     ]
    }
   ],
   "source": [
    "tpr_list , fpr_list = compute_tpr_fpr_lists()\n",
    "print(len(tpr_list),len(fpr_list))\n"
   ]
  },
  {
   "cell_type": "code",
   "execution_count": 6,
   "metadata": {},
   "outputs": [
    {
     "data": {
      "text/plain": [
       "<function matplotlib.pyplot.show(*args, **kw)>"
      ]
     },
     "execution_count": 6,
     "metadata": {},
     "output_type": "execute_result"
    },
    {
     "data": {
      "image/png": "[encoded data removed]",
      "text/plain": [
       "<Figure size 432x288 with 1 Axes>"
      ]
     },
     "metadata": {},
     "output_type": "display_data"
    }
   ],
   "source": [
    "# Ploting roc curve\n",
    "\n",
    "plt.plot(fpr_list,tpr_list)\n",
    "plt.grid()\n",
    "plt.xlabel(\"FPR\")\n",
    "plt.ylabel(\"TPR\")\n",
    "plt.title(\"ROC CURVE\")\n",
    "plt.show"
   ]
  },
  {
   "cell_type": "code",
   "execution_count": 7,
   "metadata": {},
   "outputs": [
    {
     "name": "stdout",
     "output_type": "stream",
     "text": [
      "AUC is = 0.48829900000000004\n"
     ]
    }
   ],
   "source": [
    "# COmputing Area under the curve\n",
    "Auc = np.trapz(tpr_list, fpr_list)\n",
    "print(\"AUC is =\",Auc)"
   ]
  },
  {
   "cell_type": "markdown",
   "metadata": {},
   "source": [
    "## Task - 2"
   ]
  },
  {
   "cell_type": "markdown",
   "metadata": {
    "colab_type": "text",
    "id": "GiPGonTzQvoB"
   },
   "source": [
    "<font color='red'><b></b></font> Compute the best threshold (similarly to ROC curve computation) of probability which gives lowest values of metric <b>A</b>\n",
    "<br>\n",
    "will be predicting label of a data points like this: $y^{pred}= \\text{[0 if y_score < threshold  else 1]}$\n",
    "\n",
    "$ A = 500 \\times \\text{number of false negative} + 100 \\times \\text{number of false positive}$"
   ]
  },
  {
   "cell_type": "code",
   "execution_count": 9,
   "metadata": {},
   "outputs": [
    {
     "name": "stderr",
     "output_type": "stream",
     "text": [
      "100%|██████████████████████████████████████████████████████████████████████████████| 2852/2852 [08:47<00:00,  5.41it/s]"
     ]
    },
    {
     "name": "stdout",
     "output_type": "stream",
     "text": [
      "best_thresold_value is : 0.2300390278970873\n"
     ]
    },
    {
     "name": "stderr",
     "output_type": "stream",
     "text": [
      "\n"
     ]
    }
   ],
   "source": [
    "# computing best thresold value\n",
    "\n",
    "dictt = dict()\n",
    "for actual_pred_y in tqdm(data.pred_y):\n",
    "    y_tilda = []\n",
    "    i = 0\n",
    "    while i<len(data.pred_y):\n",
    "        if data.pred_y.iloc[i] < actual_pred_y:\n",
    "            y_tilda.append(0)\n",
    "        else:\n",
    "            y_tilda.append(1)\n",
    "        i = i+1\n",
    "    \n",
    "    tp,tn,fn,fp = 0,0,0,0\n",
    "    i = 0\n",
    "    while i < len(data.actual_y):\n",
    "        if (data.actual_y.iloc[i] == 1) and (y_tilda[i] == 0):\n",
    "            fn = fn + 1\n",
    "        if (data.actual_y.iloc[i] == 0) and (y_tilda[i] == 1):\n",
    "            fp = fp + 1\n",
    "        i = i+1\n",
    "    # computing matrix A    \n",
    "    A = (500*fn)+(100*fp)\n",
    "    # Storing in dictionary\n",
    "    dictt[actual_pred_y] = A\n",
    "# here i take help from stackoverflow\n",
    "dictt_updated = {k: v for k, v in sorted(dictt.items(), key=lambda item: item[1])}\n",
    "best_thresold_value = min(dictt_updated.items(), key=lambda x: x[1])[0]\n",
    "#printing Best thresold value\n",
    "print(\"best_thresold_value is :\" , best_thresold_value)"
   ]
  },
  {
   "cell_type": "markdown",
   "metadata": {
    "colab": {},
    "colab_type": "code",
    "id": "x5HIJzq1QvoE"
   },
   "source": [
    "## Task - 2"
   ]
  },
  {
   "cell_type": "markdown",
   "metadata": {
    "colab_type": "text",
    "id": "sD4CcgjXQvoL"
   },
   "source": [
    "<li> Compute Mean Square Error </li>\n",
    "<li> Compute MAPE: https://www.youtube.com/watch?v=ly6ztgIkUxk</li>\n",
    "<li> Compute R^2 error: https://en.wikipedia.org/wiki/Coefficient_of_determination#Definitions </li>\n",
    "</ol>\n",
    "</pre>"
   ]
  },
  {
   "cell_type": "code",
   "execution_count": 71,
   "metadata": {},
   "outputs": [
    {
     "name": "stdout",
     "output_type": "stream",
     "text": [
      "Mean Square Error is = 177.16569974554707\n"
     ]
    }
   ],
   "source": [
    "# Mean square error\n",
    "i = 0\n",
    "square_error_list = []\n",
    "while i<len(data.actual_y):\n",
    "    error = data.actual_y[i] - data.pred_y[i]\n",
    "    squared_error = error**2\n",
    "    square_error_list.append(squared_error)\n",
    "    i = i+1\n",
    "Mean_Square_Error = np.mean(square_error_list)\n",
    "print(\"Mean Square Error is =\",Mean_Square_Error)"
   ]
  },
  {
   "cell_type": "code",
   "execution_count": 72,
   "metadata": {},
   "outputs": [
    {
     "name": "stdout",
     "output_type": "stream",
     "text": [
      "MAPE IS = 0.1291202994009687\n"
     ]
    }
   ],
   "source": [
    "# MAPE\n",
    "sum_of_abs_error = 0\n",
    "sum_of_actual_y_s = 0\n",
    "\n",
    "i = 0\n",
    "while i<len(data.actual_y):\n",
    "    error = data.actual_y[i] - data.pred_y[i]\n",
    "    abs_error = abs(error)\n",
    "    sum_of_abs_error = sum_of_abs_error + abs_error\n",
    "    sum_of_actual_y_s = sum_of_actual_y_s + data.actual_y[i]\n",
    "    i = i+1\n",
    "    \n",
    "MAPE = sum_of_abs_error / sum_of_actual_y_s\n",
    "\n",
    "print(\"MAPE IS =\" , MAPE)"
   ]
  },
  {
   "cell_type": "code",
   "execution_count": 73,
   "metadata": {},
   "outputs": [
    {
     "name": "stdout",
     "output_type": "stream",
     "text": [
      "R_sqare is =  0.9563616749254799\n"
     ]
    }
   ],
   "source": [
    "# R^2 Error\n",
    "SS_total = 0\n",
    "SS_residue  = 0\n",
    "y_i_bar = int(data[\"actual_y\"].mean())\n",
    "\n",
    "i = 0\n",
    "while i<len(data.actual_y):\n",
    "    \n",
    "    sum_of_square = data.actual_y[i] - y_i_bar\n",
    "    sum_of_square = sum_of_square**2\n",
    "    SS_total = SS_total + sum_of_square\n",
    "    \n",
    "    error = data.actual_y[i] - data.pred_y[i]\n",
    "    squared_error = error**2\n",
    "    SS_residue = SS_residue + squared_error\n",
    "    i = i+1\n",
    "    \n",
    "R_square = (SS_total - SS_residue) / SS_total\n",
    "print(\"R_sqare is = \" , R_square)"
   ]
  }
 ],
 "metadata": {
  "colab": {
   "collapsed_sections": [],
   "name": "5_Performance_metrics_Instructions.ipynb",
   "provenance": []
  },
  "kernelspec": {
   "display_name": "Python 3 (ipykernel)",
   "language": "python",
   "name": "python3"
  },
  "language_info": {
   "codemirror_mode": {
    "name": "ipython",
    "version": 3
   },
   "file_extension": ".py",
   "mimetype": "text/x-python",
   "name": "python",
   "nbconvert_exporter": "python",
   "pygments_lexer": "ipython3",
   "version": "3.10.9"
  }
 },
 "nbformat": 4,
 "nbformat_minor": 1
}
